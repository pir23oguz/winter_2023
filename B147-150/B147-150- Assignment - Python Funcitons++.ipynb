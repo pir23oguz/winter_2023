{
 "cells": [
  {
   "cell_type": "markdown",
   "id": "386239ff",
   "metadata": {},
   "source": [
    "___\n",
    "\n",
    "<p style=\"text-align: center;\"><img src=\"https://techproeducation.com/wp-content/uploads/2022/01/Calisma-Yuzeyi-1-kopya-5-1-768x126.png\" class=\"img-fluid\" alt=\"TECHPRO\"></p>\n",
    "\n",
    "___"
   ]
  },
  {
   "cell_type": "markdown",
   "id": "aa93b12c",
   "metadata": {},
   "source": [
    "# Python Functions Assignment"
   ]
  },
  {
   "cell_type": "markdown",
   "id": "57c9c596",
   "metadata": {},
   "source": [
    "## 1. Write a Python function to find the maximum of three numbers."
   ]
  },
  {
   "cell_type": "code",
   "execution_count": 1,
   "id": "9655e704",
   "metadata": {},
   "outputs": [
    {
     "data": {
      "text/plain": [
       "45"
      ]
     },
     "execution_count": 1,
     "metadata": {},
     "output_type": "execute_result"
    }
   ],
   "source": [
    "max(23, 45, -5)"
   ]
  },
  {
   "cell_type": "markdown",
   "id": "d6d0667d",
   "metadata": {},
   "source": [
    "## 2. Write a Python function to sum all the numbers in a list.\n",
    "\n",
    "## Sample List : (8, 2, 3, 0, 7)\n",
    "\n",
    "## Expected Output : 20"
   ]
  },
  {
   "cell_type": "code",
   "execution_count": 3,
   "id": "28fb6939",
   "metadata": {},
   "outputs": [
    {
     "name": "stdout",
     "output_type": "stream",
     "text": [
      "Sayilarin Toplami  20\n"
     ]
    }
   ],
   "source": [
    " \n",
    "'''\n",
    "list1 = [8, 2 ,3, -0, 7] \n",
    "cikti: 20\n",
    "islem: 8+2+3+(-1)+7=-336\n",
    "''' \n",
    "\n",
    "toplam = 0\n",
    "  \n",
    "list1 = [8, 2, 3, 0 ,7]  \n",
    "  \n",
    "for i in range(0, len(list1)): \n",
    "    toplam = toplam + list1[i] \n",
    "  \n",
    "print(\"Sayilarin Toplami \", toplam)"
   ]
  },
  {
   "cell_type": "markdown",
   "id": "8991e3fe",
   "metadata": {},
   "source": [
    "## 3. Write a Python function to multiply all the numbers in a list.\n",
    "## Sample List : (8, 2, 3, -1, 7)\n",
    "## Expected Output : -336\n"
   ]
  },
  {
   "cell_type": "code",
   "execution_count": 7,
   "id": "325e7de4",
   "metadata": {},
   "outputs": [
    {
     "name": "stdout",
     "output_type": "stream",
     "text": [
      "-336\n"
     ]
    }
   ],
   "source": [
    " \n",
    "'''\n",
    "list1 = [8, 2 ,3, -1, 7] \n",
    "cikti: -336\n",
    "islem: 8*2*3*-1*7=-336\n",
    "''' \n",
    "\n",
    "def Carp(myList) : \n",
    "      \n",
    "     \n",
    "    sonuc = 1\n",
    "    for x in myList: \n",
    "         sonuc = sonuc * x  \n",
    "    return sonuc  \n",
    "      \n",
    " \n",
    "list1 = [8, 2, 3, -1, 7]   \n",
    "print(Carp(list1)) "
   ]
  },
  {
   "cell_type": "markdown",
   "id": "d0397d6a",
   "metadata": {},
   "source": [
    "## 4. Write a Python program to reverse a string.\n",
    "## Sample String : \"1234abcd\"\n",
    "## Expected Output : \"dcba4321\""
   ]
  },
  {
   "cell_type": "code",
   "execution_count": 12,
   "id": "e6a79379",
   "metadata": {},
   "outputs": [
    {
     "name": "stdout",
     "output_type": "stream",
     "text": [
      "dcba4321\n"
     ]
    }
   ],
   "source": [
    " \n",
    "a = \"1234abcd\"\n",
    "\n",
    "print(a[::-1])\n"
   ]
  },
  {
   "attachments": {},
   "cell_type": "markdown",
   "id": "c7a633ba",
   "metadata": {},
   "source": [
    "## 5. Write a Python function to calculate the factorial of a number (a non-negative integer). The function accepts the number as an argument."
   ]
  },
  {
   "cell_type": "code",
   "execution_count": 9,
   "id": "29d849d6",
   "metadata": {},
   "outputs": [
    {
     "name": "stdout",
     "output_type": "stream",
     "text": [
      "Faktoriyel :  24\n"
     ]
    }
   ],
   "source": [
    "sayi = int(input(\"Faktöriyelini Hesaplamak için sayi giriniz:\"))\n",
    "deger = 1\n",
    "for i in range(sayi):\n",
    "    deger = deger * (i+1)\n",
    " \n",
    "print(\"Faktoriyel : \", deger)"
   ]
  },
  {
   "cell_type": "markdown",
   "id": "81f0c3d5",
   "metadata": {},
   "source": [
    "## 6. Write a Python function to check whether a number falls within a given range."
   ]
  },
  {
   "cell_type": "code",
   "execution_count": 10,
   "id": "bf393352",
   "metadata": {},
   "outputs": [],
   "source": [
    "def num_check(num,range_1,range_2):\n",
    "    if num in range(range_1,range_2 + 1):\n",
    "        result = print(f\"{num} is between {range_1} and {range_2}\")\n",
    "    else:\n",
    "        result = print(f\"{num} is NOT between {range_1} and {range_2}\")\n",
    "    return result\n",
    "\n"
   ]
  },
  {
   "cell_type": "markdown",
   "id": "46d9792b",
   "metadata": {},
   "source": [
    "## 7. Write a Python function that accepts a string and counts the number of upper and lower case letters.\n",
    "## Sample String : 'The quick Brow Fox'\n",
    "## Expected Output :\n",
    "### No. of Upper case characters : 3\n",
    "### No. of Lower case Characters : 12"
   ]
  },
  {
   "cell_type": "code",
   "execution_count": 2,
   "id": "195a965b",
   "metadata": {},
   "outputs": [
    {
     "name": "stdout",
     "output_type": "stream",
     "text": [
      "Buyuk Harf 8\n",
      "Kucuk Harf 10\n"
     ]
    }
   ],
   "source": [
    "def search(x):\n",
    "    buyuk = 0\n",
    "    kucuk = 0\n",
    "\n",
    "    for i in x:\n",
    "        buyuk += i.islower()\n",
    "        kucuk += i.isupper()\n",
    "\n",
    "    print(\"Buyuk Harf {0}\\nKucuk Harf {1}\".format(kucuk,buyuk))\n",
    "\n",
    "kelimeler = input(\"Bir kelime giriniz: \")\n",
    "search(kelimeler)"
   ]
  },
  {
   "cell_type": "markdown",
   "id": "be714b42",
   "metadata": {},
   "source": [
    "## 8. Write a Python function that takes a list and returns a new list with distinct elements from the first list.\n",
    "### Sample List : [1,2,3,3,3,3,4,5]\n",
    "### Unique List : [1, 2, 3, 4, 5]"
   ]
  },
  {
   "cell_type": "code",
   "execution_count": 2,
   "id": "4f2a7f66",
   "metadata": {},
   "outputs": [
    {
     "data": {
      "text/plain": [
       "[1, 2, 3, 4, 5]"
      ]
     },
     "execution_count": 2,
     "metadata": {},
     "output_type": "execute_result"
    }
   ],
   "source": [
    "'''\n",
    "8. Write a Python function that takes a list and returns a new list with distinct elements from the first list.\n",
    "Sample List : [1,2,3,3,3,3,4,5]\n",
    "Unique List : [1, 2, 3, 4, 5]\n",
    "'''\n",
    "def unique_list(list) :\n",
    "      \n",
    "   bos_list=[]\n",
    "   [bos_list.append(i) for i in list if  i not in bos_list] \n",
    "   return bos_list\n",
    "   \n",
    "Sample_List = [1,2,3,3,3,3,4,5]\n",
    "unique_list(Sample_List)"
   ]
  },
  {
   "cell_type": "markdown",
   "id": "b3400547",
   "metadata": {},
   "source": [
    "## 9. Write a Python function that takes a number as a parameter and checks whether the number is prime or not.\n",
    "### Note : A prime number (or a prime) is a natural number greater than 1 and that has no positive divisors other than 1 and itself."
   ]
  },
  {
   "cell_type": "code",
   "execution_count": 3,
   "id": "9179b32b",
   "metadata": {},
   "outputs": [
    {
     "name": "stdout",
     "output_type": "stream",
     "text": [
      "asal sayidir\n"
     ]
    }
   ],
   "source": [
    "'''\n",
    "Write a Python function that takes a number as a parameter and \n",
    "checks whether the number is prime or not.\n",
    "Note : A prime number (or a prime) is a natural number greater than 1 \n",
    "and that has no positive divisors other than 1 and itself.\n",
    "'''\n",
    "def asal_mi(x):                        \n",
    "    i = 2\n",
    "    if (x == 1):\n",
    "        return \"Asal değil\"       \n",
    "    else:\n",
    "        while(i < x):\n",
    "            if (x % i == 0):     \n",
    "                return \"Asal değil\"  \n",
    "            i += 1\n",
    "    return print(\"asal sayidir\")\n",
    "number = int(input(\"Asal sayi kontrolü için bir sayi giriniz: \"))\n",
    "asal_mi(number)\n"
   ]
  },
  {
   "cell_type": "markdown",
   "id": "9743a8c3",
   "metadata": {},
   "source": [
    "## 10. Write a Python program to print the even numbers from a given list.\n",
    "### Sample List : [1, 2, 3, 4, 5, 6, 7, 8, 9]\n",
    "### Expected Result : [2, 4, 6, 8]"
   ]
  },
  {
   "cell_type": "code",
   "execution_count": 25,
   "id": "039185d2",
   "metadata": {},
   "outputs": [
    {
     "name": "stdout",
     "output_type": "stream",
     "text": [
      "2 4 6 8 "
     ]
    }
   ],
   "source": [
    " \n",
    "list1 = [1, 2, 3, 4, 5, 6, 7, 8, 9] \n",
    "  \n",
    "for num in list1: \n",
    "      \n",
    "     \n",
    "    if num % 2 == 0: \n",
    "       print(num, end = \" \")"
   ]
  },
  {
   "cell_type": "markdown",
   "id": "6c80fb99",
   "metadata": {},
   "source": [
    "## 11. Write a Python function to check whether a number is \"Perfect\" or not.\n",
    "### According to Wikipedia : In number theory, a perfect number is a positive integer that is equal to the sum of its proper positive divisors, that is, the sum of its positive divisors excluding the number itself (also known as its aliquot sum). Equivalently, a perfect number is a number that is half the sum of all of its positive divisors (including itself).\n",
    "### Example : The first perfect number is 6, because 1, 2, and 3 are its proper positive divisors, and 1 + 2 + 3 = 6. Equivalently, the number 6 is equal to half the sum of all its positive divisors: ( 1 + 2 + 3 + 6 ) / 2 = 6. The next perfect number is 28 = 1 + 2 + 4 + 7 + 14. This is followed by the perfect numbers 496 and 8128."
   ]
  },
  {
   "cell_type": "code",
   "execution_count": 4,
   "id": "39ffa501",
   "metadata": {},
   "outputs": [
    {
     "data": {
      "text/plain": [
       "'sayi mukemmel sayidir'"
      ]
     },
     "execution_count": 4,
     "metadata": {},
     "output_type": "execute_result"
    }
   ],
   "source": [
    "x=6 \n",
    "toplam = sum(list(filter(lambda i: x % i == 0 ,range(1,x) ))) \n",
    "\"sayi mukemmel sayidir\" if x == toplam  else \"mukemmel sayi değildir\" "
   ]
  },
  {
   "cell_type": "markdown",
   "id": "795dc6b0",
   "metadata": {},
   "source": [
    "## 12. Write a Python function that checks whether a passed string is a palindrome or not.\n",
    "### Note: A palindrome is a word, phrase, or sequence that reads the same backward as forward, e.g., madam or nurses run."
   ]
  },
  {
   "cell_type": "code",
   "execution_count": 5,
   "id": "dd3ceb6f",
   "metadata": {},
   "outputs": [
    {
     "name": "stdout",
     "output_type": "stream",
     "text": [
      "kelime palindrome'dur\n"
     ]
    }
   ],
   "source": [
    "def palindrome(kelime) :\n",
    " print(\"kelime palindrome'dur\") if ((lambda kelime: True if kelime==kelime[::-1] else False)(kelime))  else print(\"kelime palindrome degildir\")\n",
    "\n",
    "palindrome(\"ey edip pide ye\")"
   ]
  },
  {
   "cell_type": "markdown",
   "id": "1e155158",
   "metadata": {},
   "source": [
    "## 13. Write a Python function that prints out the first n rows of Pascal's triangle.\n",
    "### Note : Pascal's triangle is an arithmetic and geometric figure first imagined by Blaise Pascal.\n",
    "### Sample Pascal's triangle :\n",
    "### Each number is the two numbers above it added together"
   ]
  },
  {
   "cell_type": "code",
   "execution_count": 24,
   "id": "353ffc64",
   "metadata": {},
   "outputs": [
    {
     "data": {
      "text/plain": [
       "[[1], [1, 1], [1, 2, 1], [1, 3, 3, 1]]"
      ]
     },
     "execution_count": 24,
     "metadata": {},
     "output_type": "execute_result"
    }
   ],
   "source": [
    "def pascal_ucgeni(n):\n",
    "    ucgen = [[1]*(i+1) for i in range(n)]\n",
    "    for i in range(n):\n",
    "        for j in range(1, i):\n",
    "            ucgen[i][j] = ucgen[i-1][j-1] + ucgen[i-1][j]\n",
    "    return ucgen\n",
    "pascal_ucgeni(4)"
   ]
  },
  {
   "cell_type": "markdown",
   "id": "b89febf6",
   "metadata": {},
   "source": [
    "## 14. Write a Python function to check whether a string is a pangram or not.\n",
    "### Note : Pangrams are words or sentences containing every letter of the alphabet at least once.\n",
    "### For example : \"The quick brown fox jumps over the lazy dog\""
   ]
  },
  {
   "cell_type": "code",
   "execution_count": 7,
   "id": "04ee4972",
   "metadata": {},
   "outputs": [
    {
     "name": "stdout",
     "output_type": "stream",
     "text": [
      "pangramdir\n"
     ]
    }
   ],
   "source": [
    "import string\n",
    "alphabet = set(string.ascii_lowercase)\n",
    "def ispangram(x):\n",
    "    for i in alphabet:\n",
    "        if i not in x:\n",
    "            return False\n",
    "    return True\n",
    "x = \"The quick brown fox jumps over the lazy dog\"\n",
    "if(ispangram(x) == True):\n",
    "    print(\"pangramdir\")\n",
    "else:\n",
    "    print(\"pangram degildir\")\n",
    "   "
   ]
  },
  {
   "cell_type": "markdown",
   "id": "d45e3b07",
   "metadata": {},
   "source": [
    "## 15. Write a Python program that accepts a hyphen-separated sequence of words as input and prints the words in a hyphen-separated sequence after sorting them alphabetically.\n",
    "### Sample Items : green-red-yellow-black-white\n",
    "### Expected Result : black-green-red-white-yellow"
   ]
  },
  {
   "cell_type": "code",
   "execution_count": 15,
   "id": "131ce2fd",
   "metadata": {},
   "outputs": [
    {
     "name": "stdout",
     "output_type": "stream",
     "text": [
      "black-green-red-white-yellow\n"
     ]
    }
   ],
   "source": [
    "str_1 =input(\"Tire ile ayrilmis kelimeler giriniz\").lower().split(\"-\")\n",
    "str_1.sort()\n",
    "print(\"-\".join(str_1))    "
   ]
  },
  {
   "cell_type": "markdown",
   "id": "12d7472a",
   "metadata": {},
   "source": [
    "## 16. Write a Python function to create and print a list where the values are the squares of numbers between 1 and 30 (both included)."
   ]
  },
  {
   "cell_type": "code",
   "execution_count": 9,
   "id": "911cd8e9",
   "metadata": {},
   "outputs": [
    {
     "name": "stdout",
     "output_type": "stream",
     "text": [
      "[1, 4, 9, 16, 25, 36, 49, 64, 81, 100, 121, 144, 169, 196, 225, 256, 289, 324, 361, 400, 441, 484, 529, 576, 625, 676, 729, 784, 841, 900]\n"
     ]
    }
   ],
   "source": [
    "def kareleri():\n",
    "    kare_list = [i**2 for i in range(1,31)]   \n",
    "    \n",
    "    print(kare_list)\n",
    "\n",
    "kareleri()"
   ]
  },
  {
   "cell_type": "markdown",
   "id": "5f116f5d",
   "metadata": {},
   "source": [
    "## 17. Write a Python program to create a chain of function decorators (bold, italic, underline etc.).\n"
   ]
  },
  {
   "cell_type": "code",
   "execution_count": 8,
   "id": "17ad2f2a",
   "metadata": {},
   "outputs": [
    {
     "name": "stdout",
     "output_type": "stream",
     "text": [
      "Fonksiyon calisacakacak...\n",
      "Fonksiyon calistitı.\n"
     ]
    }
   ],
   "source": [
    "\n",
    "def decorator(func):\n",
    "    def wrapper(*args, **kwargs):\n",
    "        print('Fonksiyon calisacakacak...')\n",
    "        func()\n",
    "    return wrapper\n",
    "\n",
    "@decorator\n",
    "def func():\n",
    "    print('Fonksiyon calistitı.')\n",
    "\n",
    "func()"
   ]
  },
  {
   "cell_type": "markdown",
   "id": "e44f734a",
   "metadata": {},
   "source": [
    "## 18. Write a Python program to execute a string containing Python code."
   ]
  },
  {
   "cell_type": "code",
   "execution_count": 8,
   "id": "a635119a",
   "metadata": {},
   "outputs": [
    {
     "name": "stdout",
     "output_type": "stream",
     "text": [
      "TechPro Education\n"
     ]
    },
    {
     "data": {
      "text/plain": [
       "3.1415"
      ]
     },
     "execution_count": 8,
     "metadata": {},
     "output_type": "execute_result"
    }
   ],
   "source": [
    "exec(\"print('TechPro Education')\")\n",
    "exec(\"x=3.1415\")\n",
    "x"
   ]
  },
  {
   "cell_type": "markdown",
   "id": "323501dc",
   "metadata": {},
   "source": [
    "## 19. Write a Python program to access a function inside a function."
   ]
  },
  {
   "cell_type": "code",
   "execution_count": 6,
   "id": "9272d6d6",
   "metadata": {},
   "outputs": [
    {
     "name": "stdout",
     "output_type": "stream",
     "text": [
      "first() fonksiyonu calisti\n",
      "second() fonksiyonu calisti\n",
      "Sonuc: TechProEducation\n"
     ]
    }
   ],
   "source": [
    "def first(x):\n",
    "    print(\"first() fonksiyonu calisti\")\n",
    "    y = 'TechPro'\n",
    "    \n",
    "    def second():\n",
    "        print(\"second() fonksiyonu calisti\")\n",
    "        print(f\"Sonuc: {y+x}\")\n",
    "        \n",
    "    second()\n",
    "    \n",
    "first(\"Education\")"
   ]
  },
  {
   "attachments": {},
   "cell_type": "markdown",
   "id": "ad42d26f",
   "metadata": {},
   "source": [
    "## 20. Write a Python program to detect the number of local variables declared in a function.\n",
    "### Sample Output:\n",
    "### "
   ]
  },
  {
   "cell_type": "code",
   "execution_count": 5,
   "id": "d7fff293",
   "metadata": {},
   "outputs": [
    {
     "name": "stdout",
     "output_type": "stream",
     "text": [
      "empty fonksiyonunda ki local değişkenler: 0\n",
      "full fonksiyonunda ki local değişkenler: 4\n"
     ]
    }
   ],
   "source": [
    "\n",
    "def empty():\n",
    "    pass\n",
    "\n",
    "def full():\n",
    "    str = \"TechPro\"\n",
    "    a,b = 89, 98.9\n",
    "    system = True\n",
    "    \n",
    "print(\"empty fonksiyonunda ki local değişkenler:\",empty.__code__.co_nlocals)\n",
    "print(\"full fonksiyonunda ki local değişkenler:\",full.__code__.co_nlocals)"
   ]
  },
  {
   "cell_type": "markdown",
   "id": "d9df7ef3",
   "metadata": {},
   "source": [
    "## 21. Write a Python program that invokes a function after a specified period of time.\n",
    "### Sample Output:\n",
    "### Square root after specific miliseconds:\n",
    "### 4.0\n",
    "### 10.0\n",
    "### 158.42979517754858 (edited) "
   ]
  },
  {
   "cell_type": "code",
   "execution_count": 4,
   "id": "34f77a91",
   "metadata": {},
   "outputs": [
    {
     "name": "stdout",
     "output_type": "stream",
     "text": [
      "Islem 4 sn. sonra gerceklesicek\n",
      "TechPro\n"
     ]
    }
   ],
   "source": [
    "import time\n",
    "\n",
    "delay = int(input(\"Isleminizi ne kadar geciktirmek istersiniz: \"))\n",
    "\n",
    "print(f\"Islem {delay} sn. sonra gerceklesicek\")\n",
    "time.sleep(delay)\n",
    "print(\"TechPro\")"
   ]
  },
  {
   "cell_type": "markdown",
   "id": "49c0309b",
   "metadata": {},
   "source": [
    "___\n",
    "\n",
    "<p style=\"text-align: center;\"><img src=\"https://techproeducation.com/wp-content/uploads/2022/01/Calisma-Yuzeyi-1-kopya-5-1-768x126.png\" class=\"img-fluid\" alt=\"TECHPRO\"></p>\n",
    "\n",
    "___"
   ]
  }
 ],
 "metadata": {
  "kernelspec": {
   "display_name": "Python 3",
   "language": "python",
   "name": "python3"
  },
  "language_info": {
   "codemirror_mode": {
    "name": "ipython",
    "version": 3
   },
   "file_extension": ".py",
   "mimetype": "text/x-python",
   "name": "python",
   "nbconvert_exporter": "python",
   "pygments_lexer": "ipython3",
   "version": "3.11.2"
  }
 },
 "nbformat": 4,
 "nbformat_minor": 5
}
