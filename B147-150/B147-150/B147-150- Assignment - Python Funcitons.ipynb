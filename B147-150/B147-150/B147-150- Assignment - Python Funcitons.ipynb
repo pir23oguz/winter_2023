{
 "cells": [
  {
   "cell_type": "markdown",
   "id": "386239ff",
   "metadata": {},
   "source": [
    "___\n",
    "\n",
    "<p style=\"text-align: center;\"><img src=\"https://techproeducation.com/wp-content/uploads/2022/01/Calisma-Yuzeyi-1-kopya-5-1-768x126.png\" class=\"img-fluid\" alt=\"TECHPRO\"></p>\n",
    "\n",
    "___"
   ]
  },
  {
   "cell_type": "markdown",
   "id": "aa93b12c",
   "metadata": {},
   "source": [
    "# Python Functions Assignment"
   ]
  },
  {
   "cell_type": "markdown",
   "id": "57c9c596",
   "metadata": {},
   "source": [
    "## 1. Write a Python function to find the maximum of three numbers."
   ]
  },
  {
   "cell_type": "code",
   "execution_count": null,
   "id": "9655e704",
   "metadata": {},
   "outputs": [],
   "source": []
  },
  {
   "cell_type": "markdown",
   "id": "d6d0667d",
   "metadata": {},
   "source": [
    "## 2. Write a Python function to sum all the numbers in a list.\n",
    "\n",
    "## Sample List : (8, 2, 3, 0, 7)\n",
    "\n",
    "## Expected Output : 20"
   ]
  },
  {
   "cell_type": "code",
   "execution_count": 1,
   "id": "28fb6939",
   "metadata": {},
   "outputs": [
    {
     "name": "stdout",
     "output_type": "stream",
     "text": [
      "Sayıların toplamı: 20\n"
     ]
    }
   ],
   "source": [
    "sayilar =[8, 2, 3, 0, 7]\n",
    " \n",
    "toplam=0\n",
    "for i in sayilar:\n",
    "  toplam+=i\n",
    "print(\"Sayilarin toplami: {}\".format(toplam))"
   ]
  },
  {
   "cell_type": "markdown",
   "id": "8991e3fe",
   "metadata": {},
   "source": [
    "## 3. Write a Python function to multiply all the numbers in a list.\n",
    "## Sample List : (8, 2, 3, -1, 7)\n",
    "## Expected Output : -336\n"
   ]
  },
  {
   "cell_type": "code",
   "execution_count": null,
   "id": "325e7de4",
   "metadata": {},
   "outputs": [],
   "source": []
  },
  {
   "cell_type": "markdown",
   "id": "d0397d6a",
   "metadata": {},
   "source": [
    "## 4. Write a Python program to reverse a string.\n",
    "## Sample String : \"1234abcd\"\n",
    "## Expected Output : \"dcba4321\""
   ]
  },
  {
   "cell_type": "code",
   "execution_count": null,
   "id": "e6a79379",
   "metadata": {},
   "outputs": [],
   "source": []
  },
  {
   "cell_type": "markdown",
   "id": "c7a633ba",
   "metadata": {},
   "source": [
    "## 5. Write a Python function to calculate the factorial of a number (a non-negative integer). The function accepts the number as an argument."
   ]
  },
  {
   "cell_type": "code",
   "execution_count": null,
   "id": "29d849d6",
   "metadata": {},
   "outputs": [],
   "source": []
  },
  {
   "cell_type": "markdown",
   "id": "81f0c3d5",
   "metadata": {},
   "source": [
    "## 6. Write a Python function to check whether a number falls within a given range."
   ]
  },
  {
   "cell_type": "code",
   "execution_count": null,
   "id": "bf393352",
   "metadata": {},
   "outputs": [],
   "source": []
  },
  {
   "cell_type": "markdown",
   "id": "46d9792b",
   "metadata": {},
   "source": [
    "## 7. Write a Python function that accepts a string and counts the number of upper and lower case letters.\n",
    "## Sample String : 'The quick Brow Fox'\n",
    "## Expected Output :\n",
    "### No. of Upper case characters : 3\n",
    "### No. of Lower case Characters : 12"
   ]
  },
  {
   "cell_type": "code",
   "execution_count": null,
   "id": "195a965b",
   "metadata": {},
   "outputs": [],
   "source": []
  },
  {
   "cell_type": "markdown",
   "id": "be714b42",
   "metadata": {},
   "source": [
    "## 8. Write a Python function that takes a list and returns a new list with distinct elements from the first list.\n",
    "### Sample List : [1,2,3,3,3,3,4,5]\n",
    "### Unique List : [1, 2, 3, 4, 5]"
   ]
  },
  {
   "cell_type": "code",
   "execution_count": null,
   "id": "4f2a7f66",
   "metadata": {},
   "outputs": [],
   "source": []
  },
  {
   "cell_type": "markdown",
   "id": "b3400547",
   "metadata": {},
   "source": [
    "## 9. Write a Python function that takes a number as a parameter and checks whether the number is prime or not.\n",
    "### Note : A prime number (or a prime) is a natural number greater than 1 and that has no positive divisors other than 1 and itself."
   ]
  },
  {
   "cell_type": "code",
   "execution_count": null,
   "id": "9179b32b",
   "metadata": {},
   "outputs": [],
   "source": []
  },
  {
   "cell_type": "markdown",
   "id": "9743a8c3",
   "metadata": {},
   "source": [
    "## 10. Write a Python program to print the even numbers from a given list.\n",
    "### Sample List : [1, 2, 3, 4, 5, 6, 7, 8, 9]\n",
    "### Expected Result : [2, 4, 6, 8]"
   ]
  },
  {
   "cell_type": "code",
   "execution_count": null,
   "id": "039185d2",
   "metadata": {},
   "outputs": [],
   "source": []
  },
  {
   "cell_type": "markdown",
   "id": "6c80fb99",
   "metadata": {},
   "source": [
    "## 11. Write a Python function to check whether a number is \"Perfect\" or not.\n",
    "### According to Wikipedia : In number theory, a perfect number is a positive integer that is equal to the sum of its proper positive divisors, that is, the sum of its positive divisors excluding the number itself (also known as its aliquot sum). Equivalently, a perfect number is a number that is half the sum of all of its positive divisors (including itself).\n",
    "### Example : The first perfect number is 6, because 1, 2, and 3 are its proper positive divisors, and 1 + 2 + 3 = 6. Equivalently, the number 6 is equal to half the sum of all its positive divisors: ( 1 + 2 + 3 + 6 ) / 2 = 6. The next perfect number is 28 = 1 + 2 + 4 + 7 + 14. This is followed by the perfect numbers 496 and 8128."
   ]
  },
  {
   "cell_type": "code",
   "execution_count": null,
   "id": "39ffa501",
   "metadata": {},
   "outputs": [],
   "source": []
  },
  {
   "cell_type": "markdown",
   "id": "795dc6b0",
   "metadata": {},
   "source": [
    "## 12. Write a Python function that checks whether a passed string is a palindrome or not.\n",
    "### Note: A palindrome is a word, phrase, or sequence that reads the same backward as forward, e.g., madam or nurses run."
   ]
  },
  {
   "cell_type": "code",
   "execution_count": null,
   "id": "dd3ceb6f",
   "metadata": {},
   "outputs": [],
   "source": []
  },
  {
   "cell_type": "markdown",
   "id": "1e155158",
   "metadata": {},
   "source": [
    "## 13. Write a Python function that prints out the first n rows of Pascal's triangle.\n",
    "### Note : Pascal's triangle is an arithmetic and geometric figure first imagined by Blaise Pascal.\n",
    "### Sample Pascal's triangle :\n",
    "### Each number is the two numbers above it added together"
   ]
  },
  {
   "cell_type": "code",
   "execution_count": null,
   "id": "353ffc64",
   "metadata": {},
   "outputs": [],
   "source": []
  },
  {
   "cell_type": "markdown",
   "id": "b89febf6",
   "metadata": {},
   "source": [
    "## 14. Write a Python function to check whether a string is a pangram or not.\n",
    "### Note : Pangrams are words or sentences containing every letter of the alphabet at least once.\n",
    "### For example : \"The quick brown fox jumps over the lazy dog\""
   ]
  },
  {
   "cell_type": "code",
   "execution_count": null,
   "id": "8d0e796a",
   "metadata": {},
   "outputs": [],
   "source": []
  },
  {
   "cell_type": "markdown",
   "id": "d45e3b07",
   "metadata": {},
   "source": [
    "## 15. Write a Python program that accepts a hyphen-separated sequence of words as input and prints the words in a hyphen-separated sequence after sorting them alphabetically.\n",
    "### Sample Items : green-red-yellow-black-white\n",
    "### Expected Result : black-green-red-white-yellow"
   ]
  },
  {
   "cell_type": "code",
   "execution_count": null,
   "id": "131ce2fd",
   "metadata": {},
   "outputs": [],
   "source": []
  },
  {
   "cell_type": "markdown",
   "id": "12d7472a",
   "metadata": {},
   "source": [
    "## 16. Write a Python function to create and print a list where the values are the squares of numbers between 1 and 30 (both included)."
   ]
  },
  {
   "cell_type": "code",
   "execution_count": null,
   "id": "76dfd6cd",
   "metadata": {},
   "outputs": [],
   "source": []
  },
  {
   "cell_type": "markdown",
   "id": "5f116f5d",
   "metadata": {},
   "source": [
    "## 17. Write a Python program to create a chain of function decorators (bold, italic, underline etc.).\n"
   ]
  },
  {
   "cell_type": "code",
   "execution_count": null,
   "id": "17ad2f2a",
   "metadata": {},
   "outputs": [],
   "source": []
  },
  {
   "cell_type": "markdown",
   "id": "e44f734a",
   "metadata": {},
   "source": [
    "## 18. Write a Python program to execute a string containing Python code."
   ]
  },
  {
   "cell_type": "code",
   "execution_count": null,
   "id": "a635119a",
   "metadata": {},
   "outputs": [],
   "source": []
  },
  {
   "cell_type": "markdown",
   "id": "323501dc",
   "metadata": {},
   "source": [
    "## 19. Write a Python program to access a function inside a function."
   ]
  },
  {
   "cell_type": "code",
   "execution_count": null,
   "id": "9272d6d6",
   "metadata": {},
   "outputs": [],
   "source": []
  },
  {
   "cell_type": "markdown",
   "id": "ad42d26f",
   "metadata": {},
   "source": [
    "## 20. Write a Python program to detect the number of local variables declared in a function.\n",
    "### Sample Output:\n",
    "### 3"
   ]
  },
  {
   "cell_type": "code",
   "execution_count": null,
   "id": "d7fff293",
   "metadata": {},
   "outputs": [],
   "source": []
  },
  {
   "cell_type": "markdown",
   "id": "d9df7ef3",
   "metadata": {},
   "source": [
    "## 21. Write a Python program that invokes a function after a specified period of time.\n",
    "### Sample Output:\n",
    "### Square root after specific miliseconds:\n",
    "### 4.0\n",
    "### 10.0\n",
    "### 158.42979517754858 (edited) "
   ]
  },
  {
   "cell_type": "code",
   "execution_count": null,
   "id": "34f77a91",
   "metadata": {},
   "outputs": [],
   "source": []
  },
  {
   "cell_type": "markdown",
   "id": "49c0309b",
   "metadata": {},
   "source": [
    "___\n",
    "\n",
    "<p style=\"text-align: center;\"><img src=\"https://techproeducation.com/wp-content/uploads/2022/01/Calisma-Yuzeyi-1-kopya-5-1-768x126.png\" class=\"img-fluid\" alt=\"TECHPRO\"></p>\n",
    "\n",
    "___"
   ]
  }
 ],
 "metadata": {
  "kernelspec": {
   "display_name": "Python 3",
   "language": "python",
   "name": "python3"
  },
  "language_info": {
   "codemirror_mode": {
    "name": "ipython",
    "version": 3
   },
   "file_extension": ".py",
   "mimetype": "text/x-python",
   "name": "python",
   "nbconvert_exporter": "python",
   "pygments_lexer": "ipython3",
   "version": "3.11.2"
  }
 },
 "nbformat": 4,
 "nbformat_minor": 5
}
