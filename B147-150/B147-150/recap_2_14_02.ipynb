{
 "cells": [
  {
   "cell_type": "code",
   "execution_count": 12,
   "metadata": {},
   "outputs": [],
   "source": [
    "\n",
    "x = 8765 // 3600\n",
    "8765 % 3600\n",
    "y = 1565 // 60\n",
    "z = 1565 % 60"
   ]
  },
  {
   "cell_type": "code",
   "execution_count": 13,
   "metadata": {},
   "outputs": [
    {
     "name": "stdout",
     "output_type": "stream",
     "text": [
      "2\n",
      "26\n",
      "5\n"
     ]
    }
   ],
   "source": [
    "print(x)\n",
    "print(y)\n",
    "print(z)"
   ]
  },
  {
   "cell_type": "code",
   "execution_count": 17,
   "metadata": {},
   "outputs": [
    {
     "name": "stdout",
     "output_type": "stream",
     "text": [
      "2 saat 26 dakika 5 saniye\n"
     ]
    }
   ],
   "source": [
    "print(x , \"saat\" , y , \"dakika\" , z , \"saniye\")"
   ]
  },
  {
   "cell_type": "code",
   "execution_count": 19,
   "metadata": {},
   "outputs": [
    {
     "data": {
      "text/plain": [
       "'meh'"
      ]
     },
     "execution_count": 19,
     "metadata": {},
     "output_type": "execute_result"
    }
   ],
   "source": [
    "name = \"Mehmet\"\n",
    "\"mehmet\"[:(len(name) // 2)]"
   ]
  },
  {
   "cell_type": "code",
   "execution_count": 31,
   "metadata": {},
   "outputs": [
    {
     "data": {
      "text/plain": [
       "'samehmetri'"
      ]
     },
     "execution_count": 31,
     "metadata": {},
     "output_type": "execute_result"
    }
   ],
   "source": [
    "str1 = \"sari\"\n",
    "srt2 = \"mehmet\"\n",
    "str1[:(len(str1) // 2)] + srt2 + str1[(len(str1) // 2):]"
   ]
  },
  {
   "cell_type": "code",
   "execution_count": 32,
   "metadata": {},
   "outputs": [
    {
     "data": {
      "text/plain": [
       "'samehmetri'"
      ]
     },
     "execution_count": 32,
     "metadata": {},
     "output_type": "execute_result"
    }
   ],
   "source": [
    "str1 = \"sari\"\n",
    "srt2 = \"mehmet\"\n",
    "str1[:len(str1) // 2] + srt2 + str1[len(str1) // 2:]"
   ]
  },
  {
   "cell_type": "code",
   "execution_count": 33,
   "metadata": {},
   "outputs": [
    {
     "data": {
      "text/plain": [
       "4"
      ]
     },
     "execution_count": 33,
     "metadata": {},
     "output_type": "execute_result"
    }
   ],
   "source": [
    "len(str1)"
   ]
  },
  {
   "cell_type": "code",
   "execution_count": 34,
   "metadata": {},
   "outputs": [
    {
     "name": "stdout",
     "output_type": "stream",
     "text": [
      "samehmetri\n"
     ]
    }
   ],
   "source": [
    "print(str1[:len(str1) // 2] + srt2 + str1[len(str1) // 2:])"
   ]
  },
  {
   "cell_type": "code",
   "execution_count": 35,
   "metadata": {},
   "outputs": [
    {
     "name": "stdout",
     "output_type": "stream",
     "text": [
      "msehmetarı\n"
     ]
    }
   ],
   "source": [
    "string1 = \"sarı\"\n",
    "string2 = \"mehmet\"\n",
    "result = string2[0] + string1[0] + string2[1:] + string1[1:]\n",
    "print(result)"
   ]
  },
  {
   "cell_type": "code",
   "execution_count": 36,
   "metadata": {},
   "outputs": [
    {
     "name": "stdout",
     "output_type": "stream",
     "text": [
      "samehmetrı\n"
     ]
    }
   ],
   "source": [
    "string1 = \"sarı\"\n",
    "string2 = \"mehmet\"\n",
    "result = string1[:2] + string2 + string1[2:]\n",
    "print(result)"
   ]
  },
  {
   "cell_type": "code",
   "execution_count": 11,
   "metadata": {},
   "outputs": [],
   "source": [
    "note = int(input(\"aldiginiz not:\"))\n",
    "if note >= 90:\n",
    "    print(\"A\")\n",
    "elif 75 <= int(note) >= 90:\n",
    "    print(\"B\")    \n",
    "\n"
   ]
  },
  {
   "cell_type": "code",
   "execution_count": 12,
   "metadata": {},
   "outputs": [
    {
     "name": "stdout",
     "output_type": "stream",
     "text": [
      "Sinavdan gecemediniz \n"
     ]
    }
   ],
   "source": [
    "data = input ()\n",
    "if 90>=100:\n",
    "    print (\"A\")\n",
    "elif 75>= 89:\n",
    "    print (\"B\")\n",
    "elif 60 >= 74:\n",
    "    print (\"C\")\n",
    "elif 45 >=59:\n",
    "    print (\"D\")\n",
    "else:\n",
    "    print (\"Sinavdan gecemediniz \")"
   ]
  },
  {
   "cell_type": "code",
   "execution_count": null,
   "metadata": {},
   "outputs": [],
   "source": [
    "sinav_notu = int(input(\"Sınav notunuzu girin.(0 ile 100 arasında)\"))\n",
    "if 0 <= sinav_notu <= 100:\n",
    "    if sinav_notu >= 90:\n",
    "        harf_notu = \"A\"\n",
    "    elif sinav_notu >= 75:\n",
    "        harf_notu = \"B\"\n",
    "    elif sinav_notu >= 60:\n",
    "        harf_notu = \"C\"\n",
    "    elif sinav_notu >= 45:\n",
    "        harf_notu = \"D\"\n",
    "    else:\n",
    "        harf_notu = \"F\"\n",
    "    print(f\"sınavdan aldığınız not {harf_notu} harfine denk gelmektedir\")\n",
    "else:\n",
    "    print(\"hatalı giriş yaptınız\")"
   ]
  }
 ],
 "metadata": {
  "kernelspec": {
   "display_name": "Python 3",
   "language": "python",
   "name": "python3"
  },
  "language_info": {
   "codemirror_mode": {
    "name": "ipython",
    "version": 3
   },
   "file_extension": ".py",
   "mimetype": "text/x-python",
   "name": "python",
   "nbconvert_exporter": "python",
   "pygments_lexer": "ipython3",
   "version": "3.11.1"
  },
  "orig_nbformat": 4,
  "vscode": {
   "interpreter": {
    "hash": "c31475f976ba09f9eec8abf528f64b9842b569ded36692d643b0e99d235663f4"
   }
  }
 },
 "nbformat": 4,
 "nbformat_minor": 2
}
