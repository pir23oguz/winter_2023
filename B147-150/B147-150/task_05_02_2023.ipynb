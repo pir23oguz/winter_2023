{
 "cells": [
  {
   "cell_type": "code",
   "execution_count": null,
   "metadata": {},
   "outputs": [],
   "source": [
    "Kullanıcıdan alınan 4 tane 4 basamaklı sayıların toplamının, onlar basamağındaki rakam kaçtır ??"
   ]
  },
  {
   "cell_type": "code",
   "execution_count": null,
   "metadata": {},
   "outputs": [],
   "source": [
    "x = int(input(\"Bir dort basamakli sayi giriniz:\"))\n",
    "y = int(input(\"ikinci dort basamakli sayi giriniz:\"))\n",
    "z = int(input(\"ucuncu dort basamakli sayi giriniz:\"))\n",
    "t = int(input(\"dorduncu dort basamakli sayi giriniz:\"))\n",
    "top = x + y + z + t\n",
    "str(top)\n",
    "print(top)\n",
    "print(str(top)[-2:-1])"
   ]
  },
  {
   "cell_type": "code",
   "execution_count": null,
   "metadata": {},
   "outputs": [],
   "source": [
    "a = int(input(\"Dört basamaklı sayı giriniz:\"))\n",
    "b = int(input(\"Dört basamaklı sayı giriniz:\"))\n",
    "c = int(input(\"Dört basamaklı sayı giriniz:\"))\n",
    "d = int(input(\"Dört basamaklı sayı giriniz:\"))\n",
    "toplam = str(a + b + c + d)\n",
    "print(toplam[-2:-1])"
   ]
  },
  {
   "cell_type": "code",
   "execution_count": null,
   "metadata": {},
   "outputs": [],
   "source": [
    "birinci_aci = int(input(\"Birinci açıyı giriniz:\"))\n",
    "ikinci_aci = int(input(\"İkinci açıyı giriniz:\"))\n",
    "print(\"Üçüncü açı:\", 180 - (birinci_aci + ikinci_aci), \"derece\")"
   ]
  },
  {
   "cell_type": "code",
   "execution_count": null,
   "metadata": {},
   "outputs": [],
   "source": [
    "#üçgenin iç açıları toplamı=180\n",
    "açı1 = int(input(\"Üçgenin bir açısını giriniz\"))\n",
    "açı2 = int(input(\"Üçgenin bir açısını giriniz\"))\n",
    "açı3 = 180 - (açı1 + açı2)\n",
    "print(f\"Üçgenin diğer açısı {açı3} derecedir.\")"
   ]
  },
  {
   "cell_type": "code",
   "execution_count": 1,
   "metadata": {},
   "outputs": [
    {
     "name": "stdout",
     "output_type": "stream",
     "text": [
      "dairenin alanı: 78.57 , darenin çevresi:  31.43\n"
     ]
    }
   ],
   "source": [
    "r = float(input(\"alanını ve çevresini hesaplamak istediğiniz dairenin yarı çapı nedir? \"))\n",
    "alan = 22/7*(r**2)\n",
    "çevre = 2*22*r/7\n",
    "alan = round(alan,2)\n",
    "çevre = round(çevre, 2)\n",
    "print(f'dairenin alanı: {alan} , darenin çevresi:  {çevre}')"
   ]
  },
  {
   "cell_type": "code",
   "execution_count": null,
   "metadata": {},
   "outputs": [],
   "source": []
  }
 ],
 "metadata": {
  "kernelspec": {
   "display_name": "Python 3",
   "language": "python",
   "name": "python3"
  },
  "language_info": {
   "codemirror_mode": {
    "name": "ipython",
    "version": 3
   },
   "file_extension": ".py",
   "mimetype": "text/x-python",
   "name": "python",
   "nbconvert_exporter": "python",
   "pygments_lexer": "ipython3",
   "version": "3.11.1"
  },
  "orig_nbformat": 4,
  "vscode": {
   "interpreter": {
    "hash": "c31475f976ba09f9eec8abf528f64b9842b569ded36692d643b0e99d235663f4"
   }
  }
 },
 "nbformat": 4,
 "nbformat_minor": 2
}
