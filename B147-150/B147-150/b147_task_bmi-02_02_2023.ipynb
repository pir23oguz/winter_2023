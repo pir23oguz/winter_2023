{
 "cells": [
  {
   "attachments": {},
   "cell_type": "markdown",
   "metadata": {},
   "source": [
    "# Task (BMI Hesaplama)"
   ]
  },
  {
   "cell_type": "code",
   "execution_count": 1,
   "metadata": {},
   "outputs": [
    {
     "ename": "ValueError",
     "evalue": "could not convert string to float: 'Boyunuzu giriniz:'",
     "output_type": "error",
     "traceback": [
      "\u001b[1;31m---------------------------------------------------------------------------\u001b[0m",
      "\u001b[1;31mValueError\u001b[0m                                Traceback (most recent call last)",
      "Cell \u001b[1;32mIn[1], line 1\u001b[0m\n\u001b[1;32m----> 1\u001b[0m boy \u001b[39m=\u001b[39m \u001b[39mfloat\u001b[39;49m(\u001b[39m\"\u001b[39;49m\u001b[39mBoyunuzu giriniz:\u001b[39;49m\u001b[39m\"\u001b[39;49m)\n\u001b[0;32m      2\u001b[0m kilo \u001b[39m=\u001b[39m \u001b[39mint\u001b[39m(\u001b[39m\"\u001b[39m\u001b[39mKilonuzu giriniz:\u001b[39m\u001b[39m\"\u001b[39m)\n\u001b[0;32m      3\u001b[0m bmi \u001b[39m=\u001b[39m kilo \u001b[39m/\u001b[39m (boy \u001b[39m*\u001b[39m boy)\n",
      "\u001b[1;31mValueError\u001b[0m: could not convert string to float: 'Boyunuzu giriniz:'"
     ]
    }
   ],
   "source": [
    "boy = float(\"Boyunuzu giriniz:\")\n",
    "kilo = int(\"Kilonuzu giriniz:\")\n",
    "bmi = kilo / (boy * boy)\n",
    "print(bmi)"
   ]
  },
  {
   "cell_type": "code",
   "execution_count": 2,
   "metadata": {},
   "outputs": [
    {
     "name": "stdout",
     "output_type": "stream",
     "text": [
      "5.9226219651668136e-05\n"
     ]
    }
   ],
   "source": [
    "boy = float(input(\"Boyunuzu giriniz(m):\"))\n",
    "kilo = int(input(\"Kilonuzu giriniz(kg):\"))\n",
    "bmi = kilo / (boy * boy)\n",
    "print(bmi)"
   ]
  },
  {
   "cell_type": "code",
   "execution_count": 10,
   "metadata": {},
   "outputs": [
    {
     "name": "stdout",
     "output_type": "stream",
     "text": [
      "VÜCUT KİTLE ENDEKSİ HESAPLAMA PROGRAMI 💪\n",
      "27.776929886145112\n"
     ]
    }
   ],
   "source": [
    "print(\"VÜCUT KİTLE ENDEKSİ HESAPLAMA PROGRAMI 💪\")\n",
    "boy = float(input(\"Boyunuzu giriniz(m):\"))\n",
    "kilo = int(input(\"Kilonuzu giriniz(kg):\"))\n",
    "bmi = kilo / (boy * boy)\n",
    "print(bmi)"
   ]
  },
  {
   "attachments": {},
   "cell_type": "markdown",
   "metadata": {},
   "source": [
    "# Arkadas ornekleri"
   ]
  },
  {
   "cell_type": "code",
   "execution_count": 1,
   "metadata": {},
   "outputs": [
    {
     "name": "stdout",
     "output_type": "stream",
     "text": [
      "Vücut Kitle Endeksiniz= 0.034722222222222224 kg/m2\n"
     ]
    }
   ],
   "source": [
    "kilo = int(input(\"Kilonuz ?\"))\n",
    "boy = float(input(\"Boyunuz ?\"))\n",
    "vkı = (kilo) / (boy ** 2)\n",
    "print(\"Vücut Kitle Endeksiniz=\" , vkı ,\"kg/m2\")\n"
   ]
  },
  {
   "cell_type": "code",
   "execution_count": 2,
   "metadata": {},
   "outputs": [
    {
     "name": "stdout",
     "output_type": "stream",
     "text": [
      "0.034722222222222224 kg/m2= Kilonuz idealaltı\n"
     ]
    }
   ],
   "source": [
    "if vkı <= 18.4:\n",
    " print(vkı, \"kg/m2=\" , \"Kilonuz idealaltı\")\n",
    "elif vkı <= 24.9:\n",
    "    print(vkı, \"kg/m2=\" , \"Kilonuz ideal\")\n",
    "elif vkı <= 29.9:\n",
    "    print(vkı, \"kg/m2=\" , \"Kilonuz ideal değil\")\n",
    "elif vkı >= 30.0:\n",
    "    print(vkı, \"kg/m2=\" , \"Obezsiniz\")"
   ]
  },
  {
   "cell_type": "code",
   "execution_count": 3,
   "metadata": {},
   "outputs": [
    {
     "name": "stdout",
     "output_type": "stream",
     "text": [
      "Lütfen geçerli bir tam ya da ondalık sayı girin.\n",
      "Vücut Kitle İndeksiniz: 27.78    İdeal kilonun üstündesiniz\n",
      "Kaynak:https://www.acibadem.com.tr/ilgi-alani/vucut-kitle-indeksi-hesaplama/\n"
     ]
    }
   ],
   "source": [
    "while True:\n",
    "    try:\n",
    "        weight = int(input(\"Ağırlığınızı giriniz (kg)\"))\n",
    "        break\n",
    "    except ValueError:\n",
    "        print(\"Lütfen geçerli bir tam ya da ondalık sayı girin.\")\n",
    "while True:\n",
    "    try:\n",
    "        height = float(input(\"Boyunuzu giriniz (metre)\"))\n",
    "        break\n",
    "    except ValueError:\n",
    "        print(\"Lütfen geçerli bir tam ya da ondalık sayı girin.\")\n",
    "bmi = weight / height ** 2\n",
    "if bmi < 18.5:\n",
    "    print(\"Vücut Kitle İndeksiniz: {:.2f}    İdeal kilonun altındasınız\".format(bmi))\n",
    "elif 18.5 <= bmi < 24.9:\n",
    "    print(\"Vücut Kitle İndeksiniz: {:.2f}    İdeal kilodasınız\".format(bmi))\n",
    "elif 25.0 <= bmi < 29.9:\n",
    "    print(\"Vücut Kitle İndeksiniz: {:.2f}    İdeal kilonun üstündesiniz\".format(bmi))\n",
    "elif 30.0 <= bmi < 39.9:\n",
    "    print(\"Vücut Kitle İndeksiniz: {:.2f}    İdeal kilonun çok üstündesiniz (obez)\".format(bmi))\n",
    "elif 40.0 <= bmi:\n",
    "    print(\"Vücut Kitle İndeksiniz: {:.2f}    İdeal kilonun çok üstündesiniz ( morbid obez)\".format(bmi))\n",
    "print(\"Kaynak:https://www.acibadem.com.tr/ilgi-alani/vucut-kitle-indeksi-hesaplama/\")"
   ]
  },
  {
   "cell_type": "code",
   "execution_count": 5,
   "metadata": {},
   "outputs": [
    {
     "name": "stdout",
     "output_type": "stream",
     "text": [
      "27.776929886145112\n"
     ]
    }
   ],
   "source": [
    "kilo = int(input(\"enter your_weight\"))\n",
    "a = kilo\n",
    "boy = float(input(\"enter your_height\"))\n",
    "b = boy\n",
    "VKI = a / (b ** 2)\n",
    "print(VKI) "
   ]
  },
  {
   "cell_type": "code",
   "execution_count": null,
   "metadata": {},
   "outputs": [],
   "source": [
    "# Vücut_kitle_indeksi = (kilo / boy ** 2)\n",
    "x = int(input(\"Kilonuzu giriniz\"))\n",
    "y = float(input(\"Boyunuzu metre cinsinden giriniz (Örnek 1.70m) \"))\n",
    "VKİ = (x / (y ** 2))\n",
    "print(VKİ)"
   ]
  },
  {
   "cell_type": "code",
   "execution_count": null,
   "metadata": {},
   "outputs": [],
   "source": [
    "h = float(input(\"enter your height\"))\n",
    "w = int(input(\"enter your weight\"))\n",
    "vki = w / (h**2)\n",
    "print(vki)"
   ]
  },
  {
   "cell_type": "code",
   "execution_count": null,
   "metadata": {},
   "outputs": [],
   "source": [
    "==>>>Hayali Seneryo , anlatılanlar tamamen hayal ürünü ama kodlar gerçek::)))\n",
    "Örnek Soru: Mehmet Bey evini boyatmak ister ve ne kadar boya ve ne kadar masraf yapacağını bilgisini techpro öğrencilerine yazdırmak ister::)) Evinin boyanacak duvar bilgileri şöyledir: Mehmet Bey’in evinde boyatmak istediği duvar 4 tanedir.\n",
    "( Duvar ölçüleri inputtan alınacak.)\n",
    "1. Üçgen duvar bilgisi inputtan alınacak yükseklik ve taban uzunluğu olarak,\n",
    "2. Kare duvar bilgi için bir kenarı inputtan alınacak,\n",
    "3. Dikdörtgen duvar bilgisi kısa ve uzun kenarı inputtan alınacak,\n",
    "4. Daire duvar bilgisi için yarı çap inputtan alınacak. (Pi’yi 3 alınız)\n",
    "Mehmet Bey tüm evinin boyanacak alanı hesaplattıktan sonra, boyacıya gider. Ve Boyacı der ki;\n",
    "1 m2 duvar için 100 gr. boya gider. 100 gr.’ın %80 boya katarsın, %20 sinide su katarsın beyim der.\n",
    "Boyanın kilosu 10TL.’dir der. Sen ne kadar boya istersin diye sorar:\n",
    "Kafası karışan Mehmet Bey boya hesabını yaptırmak için tekrar programcıya gider tekrar bir program yazdırır.\n",
    "Program yazıldıktan sonra print() ile şu çıktıları verecek bize;\n",
    "1. Evin boyanacak alanına göre ne kadar boya gideceğini söyleyecek,\n",
    "2. Evin boyanacak alanına göre ne kadar su katılacağını söyleyecek,\n",
    "3. Boyacıya ne kadar para ödeyeceğini söyleyecek."
   ]
  },
  {
   "cell_type": "code",
   "execution_count": null,
   "metadata": {},
   "outputs": [],
   "source": [
    "vize = 40\n",
    "proje = 70\n",
    "final = 80\n",
    "puan_ortalaması = (vize * 30/100 + proje * 30/100 + final * 40/100)\n",
    "print(puan_ortalaması)"
   ]
  },
  {
   "cell_type": "code",
   "execution_count": null,
   "metadata": {},
   "outputs": [],
   "source": [
    "aynı sonucu vericek şekilde print'i 4 farklı şekilde denedim:\n",
    "\n",
    "r = 4\n",
    "pi = 3.14\n",
    "\n",
    "print(\"yarıçapı\",r,\"olan dairenin alanı\",pi*(r**2),\"çıkar\")\n",
    "\n",
    "print(\"yarıçapı \" + str(r) + \" olan dairenin alanı \" + str(pi*(r**2)) + \" çıkar\")\n",
    "\n",
    "print(f\"yarıçapı {a} olan dairenin alanı {pi*(r**2)} çıkar\")\n",
    "\n",
    "print(\"yarıçapı {} olan dairenin alanı {} çıkar\".format(r,pi*(r**2)))"
   ]
  },
  {
   "cell_type": "code",
   "execution_count": null,
   "metadata": {},
   "outputs": [],
   "source": []
  },
  {
   "cell_type": "code",
   "execution_count": null,
   "metadata": {},
   "outputs": [],
   "source": [
    "aynı sonucu vericek şekilde print'i 4 farklı şekilde denedim:\n",
    "\n",
    "r = 4\n",
    "pi = 3.14\n",
    "\n",
    "print(\"yarıçapı\",r,\"olan dairenin alanı\",pi*(r**2),\"çıkar\")\n",
    "\n",
    "print(\"yarıçapı \" + str(r) + \" olan dairenin alanı \" + str(pi*(r**2)) + \" çıkar\")\n",
    "\n",
    "print(f\"yarıçapı {a} olan dairenin alanı {pi*(r**2)} çıkar\")\n",
    "\n",
    "print(\"yarıçapı {} olan dairenin alanı {} çıkar\".format(r,pi*(r**2)))"
   ]
  },
  {
   "cell_type": "code",
   "execution_count": null,
   "metadata": {},
   "outputs": [],
   "source": [
    "#Calculate the body mass index (BDI) by using given height and weight\n",
    "height = float(input(\"Enter your height: \"))\n",
    "weight = float(input(\"Enter your weight: \"))\n",
    "#If height given as meter\n",
    "if height > 3:\n",
    "    BMI = weight/((height/100)**2)\n",
    "    print(\"Your body mass index is: \", BMI)\n",
    "#If height given as centimeter\n",
    "else:\n",
    "    BMI = weight/(height**2)\n",
    "    print(\"Your body mass index is: \", BMI)\n",
    "#Interpret in terms of obesity\n",
    "#If BDI<18.5 --> Underweight range.\n",
    "#If 18.5 <= BDI < 25 --> Healthy weight range\n",
    "#If 25 <= BDI < 30 --> Overweight range\n",
    "#If 30 <= BDI <40 --> Obesity range\n",
    "#If 40 <= BDI --> Severe obesity.\n",
    "if BMI < 18.5:\n",
    "    print(\"Underweight range\")\n",
    "elif 18.5 <= BMI < 25:\n",
    "    print(\"Healthy weight range\")\n",
    "elif 25 <= BMI < 30:\n",
    "    print(\"Overweight range\")\n",
    "elif 30 <= BMI < 40:\n",
    "    print(\"Obesity range!\")\n",
    "else:\n",
    "    print(\"Severe obesity range!!!\")dd"
   ]
  },
  {
   "cell_type": "code",
   "execution_count": 1,
   "metadata": {},
   "outputs": [
    {
     "name": "stdout",
     "output_type": "stream",
     "text": [
      "2.1857263615505373\n"
     ]
    }
   ],
   "source": [
    "kilo = float(input(\"kilonuzu giriniz\"))\n",
    "boy = float(input(\"boyunuzu giriniz\"))\n",
    "boy = boy/100\n",
    "vki = kilo/(boy**2)\n",
    "print(vki)"
   ]
  },
  {
   "cell_type": "code",
   "execution_count": null,
   "metadata": {},
   "outputs": [],
   "source": [
    "boy = float(input(\"Boyunuzu giriniz(m):\"))\n",
    "kilo = int(input(\"Kilonuzu giriniz(kg):\"))\n",
    "bmi = kilo / (boy * boy)\n",
    "print(bmi)"
   ]
  }
 ],
 "metadata": {
  "kernelspec": {
   "display_name": "Python 3",
   "language": "python",
   "name": "python3"
  },
  "language_info": {
   "codemirror_mode": {
    "name": "ipython",
    "version": 3
   },
   "file_extension": ".py",
   "mimetype": "text/x-python",
   "name": "python",
   "nbconvert_exporter": "python",
   "pygments_lexer": "ipython3",
   "version": "3.11.1"
  },
  "orig_nbformat": 4,
  "vscode": {
   "interpreter": {
    "hash": "c31475f976ba09f9eec8abf528f64b9842b569ded36692d643b0e99d235663f4"
   }
  }
 },
 "nbformat": 4,
 "nbformat_minor": 2
}
